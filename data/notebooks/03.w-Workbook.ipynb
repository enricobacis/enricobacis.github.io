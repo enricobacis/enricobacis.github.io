{
 "cells": [
  {
   "cell_type": "code",
   "execution_count": 1,
   "metadata": {},
   "outputs": [],
   "source": [
    "import numpy as np\n",
    "import pandas as pd"
   ]
  },
  {
   "cell_type": "code",
   "execution_count": 2,
   "metadata": {},
   "outputs": [],
   "source": [
    "# Sales\n",
    "sales_data = {'Company': ['GOOG', 'GOOG', 'MSFT', 'MSFT', 'FB', 'FB'],\n",
    "              'Person': ['Sam', 'Charlie', 'Amy', 'Vanessa', 'Carl', 'Sarah'],\n",
    "              'Sales': [200, 120, 340, 124, 243, 350]}\n",
    "\n",
    "sales = pd.DataFrame(sales_data)\n",
    "\n",
    "\n",
    "# Concatenation\n",
    "conc_df1 = pd.DataFrame({'A': range(10, 13),\n",
    "                         'B': range(20, 23),\n",
    "                         'C': range(30, 33)},\n",
    "                         index=[0, 1, 2])\n",
    "\n",
    "conc_df2 = pd.DataFrame({'A': range(13, 16),\n",
    "                         'B': range(23, 26),\n",
    "                         'C': range(33, 36)},\n",
    "                         index=[4, 5, 6])\n",
    "\n",
    "\n",
    "# Merge\n",
    "merge_left = pd.DataFrame({'key': ['a', 'b', 'c', 'd'],\n",
    "                           'A': [10, 20, 30, 40],\n",
    "                           'B': [100, 200, 300, 400]})\n",
    "   \n",
    "merge_right = pd.DataFrame({'key': ['a', 'b', 'c', 'e'],\n",
    "                            'C': [50, 60, 70, 80],\n",
    "                            'D': [500, 600, 700, 800]})   \n",
    "\n",
    "\n",
    "# Operations\n",
    "data = pd.DataFrame({'col1': [1, 2, 3, 4],\n",
    "                     'col2': [40, 50, 60, 40],\n",
    "                     'col3': ['a', 'b', 'c', 'd']})\n",
    "\n",
    "\n",
    "# Pivot\n",
    "piv_data = {'ind1': ['foo', 'foo', 'foo', 'bar', 'bar', 'bar'],\n",
    "            'ind2': ['one', 'one', 'two', 'two', 'one', 'one'],\n",
    "            'cols': ['x', 'y', 'x', 'y', 'x', 'y'],\n",
    "            'vals': [1, 3, 2, 5, 4, 1]}\n",
    "\n",
    "\n",
    "# Input and Output\n",
    "banks_url = 'https://www.fdic.gov/bank/individual/failed/banklist.csv'\n",
    "population_url = 'https://www.tuttitalia.it/comuni-piccoli/popolazione/'\n",
    "connection_string = 'sqlite:///:memory:'\n",
    "\n",
    "# Exercise\n",
    "super_95_url = 'https://dgsaie.mise.gov.it/prezzi_carburanti_annuali.php?pid=1&lang=en_US'\n",
    "oil_url = 'https://dgsaie.mise.gov.it/prezzi_carburanti_annuali.php?pid=2&lang=en_US'\n",
    "monthly_url = 'https://dgsaie.mise.gov.it/prezzi_carburanti_mensili.php?wm_page=1&lang=en_US'"
   ]
  }
 ],
 "metadata": {
  "kernelspec": {
   "display_name": "Python 3",
   "language": "python",
   "name": "python3"
  },
  "language_info": {
   "codemirror_mode": {
    "name": "ipython",
    "version": 3
   },
   "file_extension": ".py",
   "mimetype": "text/x-python",
   "name": "python",
   "nbconvert_exporter": "python",
   "pygments_lexer": "ipython3",
   "version": "3.7.4"
  }
 },
 "nbformat": 4,
 "nbformat_minor": 2
}
