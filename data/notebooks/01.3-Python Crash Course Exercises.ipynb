{
 "cells": [
  {
   "cell_type": "markdown",
   "metadata": {},
   "source": [
    "# Python Crash Course Exercises "
   ]
  },
  {
   "cell_type": "markdown",
   "metadata": {},
   "source": [
    "## Exercises\n",
    "\n",
    "Answer the questions or complete the tasks outlined in bold below, use the specific method described if applicable."
   ]
  },
  {
   "cell_type": "markdown",
   "metadata": {},
   "source": [
    "**What is 1337 to the power of 42?**"
   ]
  },
  {
   "cell_type": "code",
   "execution_count": null,
   "metadata": {},
   "outputs": [],
   "source": [
    "# WRITE CODE HERE\n"
   ]
  },
  {
   "cell_type": "markdown",
   "metadata": {},
   "source": [
    "    198389692832016689128025814051186435469808931027259980194805041212767924492279648804437095653839742535006120000819629040274718649969"
   ]
  },
  {
   "cell_type": "markdown",
   "metadata": {},
   "source": [
    "**Split this string:**\n",
    "\n",
    "    s = \"Look mom I'm writing python!\"\n",
    "    \n",
    "**into a list.**\n",
    "\n",
    "*Remember that after evaluating (Shift+Enter) the next cell (so that `s` exists), if you write in a new cell `s.` and you press the Tab button on your keyboard, you'll see all the methods. After writing the full name of a method you can Shift+Tab to see its documentation.*"
   ]
  },
  {
   "cell_type": "code",
   "execution_count": 1,
   "metadata": {},
   "outputs": [],
   "source": [
    "s = \"Look mom I'm writing python!\"\n",
    "\n",
    "# WRITE CODE HERE\n"
   ]
  },
  {
   "cell_type": "markdown",
   "metadata": {},
   "source": [
    "    ['Look', 'mom', \"I'm\", 'writing', 'python!']"
   ]
  },
  {
   "cell_type": "markdown",
   "metadata": {},
   "source": [
    "**Given the variables:**\n",
    "\n",
    "    planet = \"Moon\"\n",
    "    diameter = 3474\n",
    "\n",
    "**Use `.format()` to print the following string:**\n",
    "\n",
    "    The diameter of the Moon is 3474 kilometers."
   ]
  },
  {
   "cell_type": "code",
   "execution_count": 5,
   "metadata": {
    "collapsed": true
   },
   "outputs": [],
   "source": [
    "planet = \"Moon\"\n",
    "diameter = 3474\n",
    "\n",
    "# WRITE CODE HERE\n"
   ]
  },
  {
   "cell_type": "markdown",
   "metadata": {},
   "source": [
    "    'The diameter of the Moon is 3474 kilometers.'"
   ]
  },
  {
   "cell_type": "markdown",
   "metadata": {},
   "source": [
    "**Given this nested list, use indexing to grab the word `python`**"
   ]
  },
  {
   "cell_type": "code",
   "execution_count": 12,
   "metadata": {},
   "outputs": [],
   "source": [
    "lst = [1, 2, ['a', 'b'], [5.0, [100, 200, ['python']], 23, 11], 1, 7]\n",
    "\n",
    "# WRITE CODE HERE\n"
   ]
  },
  {
   "cell_type": "markdown",
   "metadata": {},
   "source": [
    "    'python'"
   ]
  },
  {
   "cell_type": "markdown",
   "metadata": {},
   "source": [
    "**Given this nested dictionary, grab the word `python`**"
   ]
  },
  {
   "cell_type": "code",
   "execution_count": 14,
   "metadata": {},
   "outputs": [],
   "source": [
    "d = {'k1': [1, 2, 3, {'oh': ['oh', 'no', {'here': [1.0, 2.0, 3.0, 'python']}]}]}\n",
    "\n",
    "# WRITE CODE HERE\n"
   ]
  },
  {
   "cell_type": "markdown",
   "metadata": {},
   "source": [
    "    'python'"
   ]
  },
  {
   "cell_type": "markdown",
   "metadata": {},
   "source": [
    "**What is the difference between a tuple and a list?**"
   ]
  },
  {
   "cell_type": "code",
   "execution_count": null,
   "metadata": {},
   "outputs": [],
   "source": []
  },
  {
   "cell_type": "markdown",
   "metadata": {},
   "source": [
    "**Write a function that returns the domain from an email**\n",
    "    \n",
    "**So for example, passing \"hello@python.org\" would return: python.org**\n",
    "\n",
    "*Again, check the methods provided by strings.*"
   ]
  },
  {
   "cell_type": "code",
   "execution_count": 24,
   "metadata": {
    "collapsed": true
   },
   "outputs": [],
   "source": [
    "# WRITE CODE HERE\n",
    "\n",
    "\n",
    "\n",
    "\n",
    "domainGet('hello@python.org')"
   ]
  },
  {
   "cell_type": "markdown",
   "metadata": {},
   "source": [
    "    'python.org'"
   ]
  },
  {
   "cell_type": "markdown",
   "metadata": {},
   "source": [
    "**Write a function that returns True if the word 'cat' is in the parameter string. Ignore edge cases and punctuation, but account for capitalization.**"
   ]
  },
  {
   "cell_type": "code",
   "execution_count": 27,
   "metadata": {
    "collapsed": true
   },
   "outputs": [],
   "source": [
    "# WRITE CODE HERE\n",
    "\n",
    "\n",
    "\n",
    "\n",
    "findCat('Is there a cat here?')"
   ]
  },
  {
   "cell_type": "markdown",
   "metadata": {},
   "source": [
    "    True"
   ]
  },
  {
   "cell_type": "markdown",
   "metadata": {},
   "source": [
    "**Write a function that returns the number of 'cat' in a string.**"
   ]
  },
  {
   "cell_type": "code",
   "execution_count": 1,
   "metadata": {},
   "outputs": [],
   "source": [
    "# WRITE CODE HERE\n",
    "\n",
    "\n",
    "\n",
    "countCat('This cat sleep more than the other cat over there!')"
   ]
  },
  {
   "cell_type": "markdown",
   "metadata": {},
   "source": [
    "    2"
   ]
  },
  {
   "cell_type": "markdown",
   "metadata": {},
   "source": [
    "**Use a lambda and the `filter()` function to only keep words that start with the letter 's'. For example:**\n",
    "\n",
    "    seq = ['soup', 'cat', 'strawberry', 'dog', 'funny']\n",
    "\n",
    "**should be filtered down to:**\n",
    "\n",
    "    ['soup', 'strawberry']"
   ]
  },
  {
   "cell_type": "code",
   "execution_count": 34,
   "metadata": {
    "collapsed": true
   },
   "outputs": [],
   "source": [
    "seq = ['soup', 'cat', 'strawberry', 'dog', 'funny']\n",
    "\n",
    "# WRITE CODE HERE\n"
   ]
  },
  {
   "cell_type": "markdown",
   "metadata": {},
   "source": [
    "    ['soup', 'strawberry']"
   ]
  },
  {
   "cell_type": "markdown",
   "metadata": {},
   "source": [
    "### Final Problem\n",
    "\n",
    "**You are driving, and a police officer stops you. Write a function that returns one of 3 possible results: \"No ticket\", \"Ok ticket\", or \"Huge ticket\". \n",
    "  If your speed is 60 or less, the result is \"No ticket\". If speed is between 61 and 80 inclusive, the result is \"Ok ticket\". If speed is 81 or more, the result is \"Huge ticket\". On your birthday (passed as boolean parameter) your speed can be 5 higher.**"
   ]
  },
  {
   "cell_type": "code",
   "execution_count": 18,
   "metadata": {},
   "outputs": [],
   "source": [
    "def check_speeding(speed, birthday):\n",
    "    # WRITE CODE HERE\n",
    "    "
   ]
  },
  {
   "cell_type": "code",
   "execution_count": null,
   "metadata": {},
   "outputs": [],
   "source": [
    "check_speeding(81, True)"
   ]
  },
  {
   "cell_type": "markdown",
   "metadata": {},
   "source": [
    "    'Ok ticket'"
   ]
  },
  {
   "cell_type": "code",
   "execution_count": null,
   "metadata": {},
   "outputs": [],
   "source": [
    "check_speeding(81, False)"
   ]
  },
  {
   "cell_type": "markdown",
   "metadata": {},
   "source": [
    "    'Huge ticket'"
   ]
  }
 ],
 "metadata": {
  "kernelspec": {
   "display_name": "Python 3",
   "language": "python",
   "name": "python3"
  },
  "language_info": {
   "codemirror_mode": {
    "name": "ipython",
    "version": 3
   },
   "file_extension": ".py",
   "mimetype": "text/x-python",
   "name": "python",
   "nbconvert_exporter": "python",
   "pygments_lexer": "ipython3",
   "version": "3.7.4"
  }
 },
 "nbformat": 4,
 "nbformat_minor": 1
}
